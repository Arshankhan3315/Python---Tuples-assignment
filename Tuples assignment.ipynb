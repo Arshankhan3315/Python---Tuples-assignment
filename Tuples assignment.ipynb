{
 "cells": [
  {
   "cell_type": "markdown",
   "id": "455bb6f5-52e4-4a20-9824-4b0982bd81b7",
   "metadata": {},
   "source": [
    "Python - Tuples assignment"
   ]
  },
  {
   "cell_type": "markdown",
   "id": "0c462fb7-2b8c-4587-98a5-a419f417e8bd",
   "metadata": {},
   "source": [
    "Question 1- What is a tuple in python?"
   ]
  },
  {
   "cell_type": "markdown",
   "id": "a71d9c5d-04f8-4f7d-94ab-d9c66e90eb8a",
   "metadata": {},
   "source": [
    "Answer 1- A tuple is an ordered collection of element which can be of data type, tuple are similar to lists in python but tere are some key differnce is that tuple are immutable, which mean that once a tuple is created, you cannot modify its element"
   ]
  },
  {
   "cell_type": "code",
   "execution_count": 1,
   "id": "bdcfdc8b-dfe2-42a2-9026-167bb303b945",
   "metadata": {},
   "outputs": [],
   "source": [
    "t= (1,2,3, 56.876, \"arshan\" , True)"
   ]
  },
  {
   "cell_type": "code",
   "execution_count": 2,
   "id": "115d44f0-9c42-4fcb-9c5e-aa79204556df",
   "metadata": {},
   "outputs": [
    {
     "data": {
      "text/plain": [
       "tuple"
      ]
     },
     "execution_count": 2,
     "metadata": {},
     "output_type": "execute_result"
    }
   ],
   "source": [
    "type(t)"
   ]
  },
  {
   "cell_type": "markdown",
   "id": "f6d57cac-bd2f-4554-a08b-dba34a4acb76",
   "metadata": {},
   "source": [
    "Question 2- How do you create a tuple in python?"
   ]
  },
  {
   "cell_type": "markdown",
   "id": "4e13d9d4-5d52-4d26-a578-b9fe1b051693",
   "metadata": {},
   "source": [
    "Answer 2- You can create a tuple in python by a sequence of element in parentheses '()' and seprarating them with commas."
   ]
  },
  {
   "cell_type": "code",
   "execution_count": 3,
   "id": "9f180017-b5ff-45d1-954c-010148946d3a",
   "metadata": {},
   "outputs": [
    {
     "data": {
      "text/plain": [
       "(1, 2, 3, 56.876, 'arshan', True)"
      ]
     },
     "execution_count": 3,
     "metadata": {},
     "output_type": "execute_result"
    }
   ],
   "source": [
    "t"
   ]
  },
  {
   "cell_type": "code",
   "execution_count": 4,
   "id": "da6e7015-68d7-4c57-81ca-5601a25acdf5",
   "metadata": {},
   "outputs": [],
   "source": [
    "t2 = ( 1,4, 77.56, \"ayan\")"
   ]
  },
  {
   "cell_type": "code",
   "execution_count": 5,
   "id": "eb9dd79a-00eb-48f9-b5e1-0dd8c9d06091",
   "metadata": {},
   "outputs": [
    {
     "data": {
      "text/plain": [
       "tuple"
      ]
     },
     "execution_count": 5,
     "metadata": {},
     "output_type": "execute_result"
    }
   ],
   "source": [
    "type(t2)"
   ]
  },
  {
   "cell_type": "markdown",
   "id": "acf65fc1-18b2-4c1a-b31f-f3d2dfe926f5",
   "metadata": {},
   "source": [
    "Question 3- What is the differnce between a tuple and a list in python?"
   ]
  },
  {
   "cell_type": "markdown",
   "id": "25bdfb18-8048-4d83-85dd-80f770e01bf7",
   "metadata": {},
   "source": [
    "Answer 3- The main differnce between a tuple and a list  is that tuples are immutable which list are mutable. this means that once a tuple created , you cannot change its element, while list you can modify their element after they have been created \n",
    "\n",
    "1- Syntex - tuples are created using parentheses'()' while list are created using squre bracked'[]'"
   ]
  },
  {
   "cell_type": "code",
   "execution_count": 6,
   "id": "65d69cb2-e55d-4702-953f-20e527cdf5a8",
   "metadata": {},
   "outputs": [],
   "source": [
    "a = (1,2,3,4,5)"
   ]
  },
  {
   "cell_type": "code",
   "execution_count": 7,
   "id": "f05962bf-3fb2-4e04-9d3e-40f9c50f968a",
   "metadata": {},
   "outputs": [
    {
     "data": {
      "text/plain": [
       "tuple"
      ]
     },
     "execution_count": 7,
     "metadata": {},
     "output_type": "execute_result"
    }
   ],
   "source": [
    "type(a)"
   ]
  },
  {
   "cell_type": "code",
   "execution_count": 8,
   "id": "531716e7-ea45-4ccf-89a6-0ac21ea6191d",
   "metadata": {},
   "outputs": [],
   "source": [
    "l9 = [1,2,3,4,5]"
   ]
  },
  {
   "cell_type": "code",
   "execution_count": 9,
   "id": "a5ce60f2-bc4d-4f0c-87ea-e5d741a6d665",
   "metadata": {},
   "outputs": [
    {
     "data": {
      "text/plain": [
       "list"
      ]
     },
     "execution_count": 9,
     "metadata": {},
     "output_type": "execute_result"
    }
   ],
   "source": [
    "type(l9)"
   ]
  },
  {
   "cell_type": "markdown",
   "id": "f361f675-19f5-4b6a-aac4-93a691a7cf2c",
   "metadata": {},
   "source": [
    "2- Mutability:Tuples are immutable meaning you cannot modify their element. list are mutable meaning you cann add,remove and modify their element after thay have created"
   ]
  },
  {
   "cell_type": "markdown",
   "id": "1e652c78-82c7-44b2-b9cf-b7dc21419257",
   "metadata": {},
   "source": [
    "Question 4 - Can a tuple be changed in python?"
   ]
  },
  {
   "cell_type": "markdown",
   "id": "21d8d6af-30e9-4552-a724-359be6e591ac",
   "metadata": {},
   "source": [
    "Answer 4- NO, a tuple cannot changed in python once it has been created. Tuple are immutable which mean you can not modify a tuple"
   ]
  },
  {
   "cell_type": "code",
   "execution_count": 10,
   "id": "d5d0d231-d236-41f6-9efc-e8092a9a1e95",
   "metadata": {},
   "outputs": [
    {
     "data": {
      "text/plain": [
       "(1, 2, 3, 56.876, 'arshan', True)"
      ]
     },
     "execution_count": 10,
     "metadata": {},
     "output_type": "execute_result"
    }
   ],
   "source": [
    "t"
   ]
  },
  {
   "cell_type": "markdown",
   "id": "3128b88e-5223-40ff-8f91-dce778bd5ec6",
   "metadata": {},
   "source": [
    "Question 5 - How do you acces element in a tuple?"
   ]
  },
  {
   "cell_type": "markdown",
   "id": "e7122c54-be94-4a20-8198-1037ef0d558d",
   "metadata": {},
   "source": [
    "Answer 5- You can can asses element using indexing or slicing"
   ]
  },
  {
   "cell_type": "code",
   "execution_count": 11,
   "id": "383dd38b-6d32-4316-a9c4-417ea1094bca",
   "metadata": {},
   "outputs": [
    {
     "data": {
      "text/plain": [
       "(1, 2, 3, 56.876, 'arshan', True)"
      ]
     },
     "execution_count": 11,
     "metadata": {},
     "output_type": "execute_result"
    }
   ],
   "source": [
    "t"
   ]
  },
  {
   "cell_type": "code",
   "execution_count": 12,
   "id": "e66b3701-861f-45e5-b975-d1667c8acd54",
   "metadata": {},
   "outputs": [
    {
     "data": {
      "text/plain": [
       "'arshan'"
      ]
     },
     "execution_count": 12,
     "metadata": {},
     "output_type": "execute_result"
    }
   ],
   "source": [
    "t[4]"
   ]
  },
  {
   "cell_type": "code",
   "execution_count": 13,
   "id": "de129379-242c-462a-9f16-7d58d345fbde",
   "metadata": {},
   "outputs": [
    {
     "data": {
      "text/plain": [
       "3"
      ]
     },
     "execution_count": 13,
     "metadata": {},
     "output_type": "execute_result"
    }
   ],
   "source": [
    "t[2]"
   ]
  },
  {
   "cell_type": "markdown",
   "id": "0c8ae10c-c6e1-4af7-b79a-11def46f1e69",
   "metadata": {},
   "source": [
    "you can also used negative indexing to access element from the end of the tuple"
   ]
  },
  {
   "cell_type": "code",
   "execution_count": 14,
   "id": "56d8996a-14e3-4081-91d8-74eeb5bb25c2",
   "metadata": {},
   "outputs": [
    {
     "data": {
      "text/plain": [
       "True"
      ]
     },
     "execution_count": 14,
     "metadata": {},
     "output_type": "execute_result"
    }
   ],
   "source": [
    "t[-1]"
   ]
  },
  {
   "cell_type": "code",
   "execution_count": 15,
   "id": "8a27bb29-eb44-48b1-89b6-b079a0199123",
   "metadata": {},
   "outputs": [
    {
     "data": {
      "text/plain": [
       "'arshan'"
      ]
     },
     "execution_count": 15,
     "metadata": {},
     "output_type": "execute_result"
    }
   ],
   "source": [
    "t[-2]"
   ]
  },
  {
   "cell_type": "markdown",
   "id": "578616e3-7ad4-4c7c-a3db-39fd46d420ce",
   "metadata": {},
   "source": [
    "To access a range of element in a tuple you can use slicing notation with the stard and index separated by a colon':' the slice notation will include all element from the start index up to but not including the end index"
   ]
  },
  {
   "cell_type": "code",
   "execution_count": 16,
   "id": "df4b507b-d55d-4b26-ab62-7c2d13fec64c",
   "metadata": {},
   "outputs": [
    {
     "data": {
      "text/plain": [
       "(1, 2, 3, 56.876, 'arshan', True)"
      ]
     },
     "execution_count": 16,
     "metadata": {},
     "output_type": "execute_result"
    }
   ],
   "source": [
    "t"
   ]
  },
  {
   "cell_type": "code",
   "execution_count": 17,
   "id": "80750756-e6ef-493e-8f5a-ef2c713a4600",
   "metadata": {},
   "outputs": [
    {
     "data": {
      "text/plain": [
       "(2, 3)"
      ]
     },
     "execution_count": 17,
     "metadata": {},
     "output_type": "execute_result"
    }
   ],
   "source": [
    "t[1:3]"
   ]
  },
  {
   "cell_type": "code",
   "execution_count": 18,
   "id": "1f0b6ce9-0a60-4215-b7ef-29b70a85b88e",
   "metadata": {},
   "outputs": [
    {
     "data": {
      "text/plain": [
       "(1, 2, 3, 56.876)"
      ]
     },
     "execution_count": 18,
     "metadata": {},
     "output_type": "execute_result"
    }
   ],
   "source": [
    "t[:4]"
   ]
  },
  {
   "cell_type": "code",
   "execution_count": 19,
   "id": "45800a2f-5d7a-442a-9a75-bbf9e7e314d3",
   "metadata": {},
   "outputs": [
    {
     "data": {
      "text/plain": [
       "(3, 56.876, 'arshan', True)"
      ]
     },
     "execution_count": 19,
     "metadata": {},
     "output_type": "execute_result"
    }
   ],
   "source": [
    "t[2:]"
   ]
  },
  {
   "cell_type": "markdown",
   "id": "95a4bd7e-7fce-4575-ad6b-73c61d2ddcec",
   "metadata": {},
   "source": [
    "Question 6- How do you unpack a tuple in python?"
   ]
  },
  {
   "cell_type": "markdown",
   "id": "e110878d-61ad-4952-a76e-309bb0e81099",
   "metadata": {},
   "source": [
    "Answer 6- Youc can unpack a tuple by assigning its individual element to seprarate varibles this allow you to easily acces each element of a tuple "
   ]
  },
  {
   "cell_type": "code",
   "execution_count": 22,
   "id": "d45040d6-24a2-42ef-b8d6-67ef8691cbd2",
   "metadata": {},
   "outputs": [],
   "source": [
    "z = (1,2,3)"
   ]
  },
  {
   "cell_type": "code",
   "execution_count": 23,
   "id": "1361331b-5c65-409a-a756-d8b784613c93",
   "metadata": {},
   "outputs": [],
   "source": [
    "a, b, c = z"
   ]
  },
  {
   "cell_type": "code",
   "execution_count": 24,
   "id": "7087a8e3-e813-4e7e-943b-8b66cf8d14ae",
   "metadata": {},
   "outputs": [
    {
     "data": {
      "text/plain": [
       "1"
      ]
     },
     "execution_count": 24,
     "metadata": {},
     "output_type": "execute_result"
    }
   ],
   "source": [
    "a"
   ]
  },
  {
   "cell_type": "code",
   "execution_count": 25,
   "id": "71f5cf83-aaa7-4c55-b222-f757fe551560",
   "metadata": {},
   "outputs": [
    {
     "data": {
      "text/plain": [
       "2"
      ]
     },
     "execution_count": 25,
     "metadata": {},
     "output_type": "execute_result"
    }
   ],
   "source": [
    "b"
   ]
  },
  {
   "cell_type": "code",
   "execution_count": 26,
   "id": "4391c0a9-4daa-4795-9e9b-8db74e1c8dd3",
   "metadata": {},
   "outputs": [
    {
     "data": {
      "text/plain": [
       "3"
      ]
     },
     "execution_count": 26,
     "metadata": {},
     "output_type": "execute_result"
    }
   ],
   "source": [
    "c"
   ]
  },
  {
   "cell_type": "markdown",
   "id": "ecb283be-f430-451d-8b6e-bd6a40286f10",
   "metadata": {},
   "source": [
    "you can also used ('*') operator to unpack a varible number of element into a single varible"
   ]
  },
  {
   "cell_type": "code",
   "execution_count": 27,
   "id": "550ea614-8371-43c5-9a38-ca70aca7101e",
   "metadata": {},
   "outputs": [],
   "source": [
    "g = (1,2,3,4,5)"
   ]
  },
  {
   "cell_type": "code",
   "execution_count": 28,
   "id": "954098b7-b15f-4f70-9b3c-d0da5bda2c35",
   "metadata": {},
   "outputs": [],
   "source": [
    "a, b, *rest = g"
   ]
  },
  {
   "cell_type": "code",
   "execution_count": 29,
   "id": "95eba309-9731-46bb-a84c-6f7ec89135b4",
   "metadata": {},
   "outputs": [
    {
     "data": {
      "text/plain": [
       "1"
      ]
     },
     "execution_count": 29,
     "metadata": {},
     "output_type": "execute_result"
    }
   ],
   "source": [
    "a"
   ]
  },
  {
   "cell_type": "code",
   "execution_count": 30,
   "id": "736b8a36-aa44-4097-ab10-cd39e7e0bc65",
   "metadata": {},
   "outputs": [
    {
     "data": {
      "text/plain": [
       "2"
      ]
     },
     "execution_count": 30,
     "metadata": {},
     "output_type": "execute_result"
    }
   ],
   "source": [
    "b"
   ]
  },
  {
   "cell_type": "code",
   "execution_count": 31,
   "id": "85de6e89-2f91-474c-8362-8c7629c1f23a",
   "metadata": {},
   "outputs": [
    {
     "data": {
      "text/plain": [
       "[3, 4, 5]"
      ]
     },
     "execution_count": 31,
     "metadata": {},
     "output_type": "execute_result"
    }
   ],
   "source": [
    "rest"
   ]
  },
  {
   "cell_type": "markdown",
   "id": "83e97188-a566-4e3f-8a02-287ff59bdcb7",
   "metadata": {},
   "source": [
    "Assignument completed"
   ]
  },
  {
   "cell_type": "code",
   "execution_count": null,
   "id": "fdcc228b-b42b-4e27-8782-554a0dcbe3ec",
   "metadata": {},
   "outputs": [],
   "source": []
  }
 ],
 "metadata": {
  "kernelspec": {
   "display_name": "Python 3 (ipykernel)",
   "language": "python",
   "name": "python3"
  },
  "language_info": {
   "codemirror_mode": {
    "name": "ipython",
    "version": 3
   },
   "file_extension": ".py",
   "mimetype": "text/x-python",
   "name": "python",
   "nbconvert_exporter": "python",
   "pygments_lexer": "ipython3",
   "version": "3.10.8"
  }
 },
 "nbformat": 4,
 "nbformat_minor": 5
}
